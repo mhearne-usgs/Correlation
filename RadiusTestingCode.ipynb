{
 "cells": [
  {
   "cell_type": "code",
   "execution_count": 1,
   "metadata": {
    "collapsed": false
   },
   "outputs": [],
   "source": [
    "%matplotlib inline\n",
    "import matplotlib.pyplot as plt\n",
    "import numpy as np\n",
    "from scipy import linalg\n",
    "import math\n",
    "from neicio.readstation import readStation\n",
    "from neicio.shake import ShakeGrid\n",
    "from neicio.gmt import GMTGrid\n",
    "import time\n",
    "from openquake.hazardlib.imt import from_string\n",
    "from openquake.hazardlib.site import Site, SiteCollection\n",
    "from openquake.hazardlib.geo import Point\n",
    "from openquake.hazardlib.correlation import JB2009CorrelationModel\n",
    "from openquake.hazardlib.correlation import BaseCorrelationModel\n",
    "from matplotlib import cm\n",
    "from Correlation.setup import initialize\n",
    "from Correlation.loop import main\n",
    "from Correlation.realizations import realizations\n",
    "\n"
   ]
  },
  {
   "cell_type": "code",
   "execution_count": 6,
   "metadata": {
    "collapsed": false
   },
   "outputs": [
    {
     "name": "stdout",
     "output_type": "stream",
     "text": [
      "0\n",
      "\tInitialization Time: 0.107940912247\n"
     ]
    }
   ],
   "source": [
    "# Variable of interest                                                                                                                                                                                                        \n",
    "voi = 'PGA'\n",
    "\n",
    "# Intensity Factor\n",
    "intensity_factor = 0.9\n",
    "\n",
    "# Get shakemap for desired variable, PGA, uncertainty grid and stationdata                                                                                                                                                    \n",
    "# Selected Stations: Units in pctg                                                                                                                                                                                            \n",
    "shakemap = ShakeGrid('Inputs/grid.xml', variable = '%s' % voi)\n",
    "\n",
    "# Uncertainty Data: Units in ln(pctg)                                                                                                                                                                                         \n",
    "uncertainty = ShakeGrid('Inputs/uncertainty.xml', variable= 'STD%s' % voi)\n",
    "\n",
    "# Station Data: Units in pctg                                                                                                                                                                                                 \n",
    "stationlist = 'Inputs/stationlist.xml'\n",
    "stationdata = readStation(stationlist)\n",
    "\n",
    "print np.size(stationdata['pga'])\n",
    "# Sets up grid spacing, site collections, and other data values\n",
    "# optional parameters: dm, dn, the grid discritization defaulting to 1\n",
    "variables = initialize(shakemap, uncertainty, stationdata, True, 2, 2)\n",
    "M = variables['M']\n",
    "N = variables['N']\n",
    "K = variables['K']\n",
    "\n",
    "# Calculate the random array, stored for testing\n",
    "rand = np.random.randn(M*N).flatten()\n",
    "\n"
   ]
  },
  {
   "cell_type": "code",
   "execution_count": 7,
   "metadata": {
    "collapsed": false
   },
   "outputs": [
    {
     "name": "stdout",
     "output_type": "stream",
     "text": [
      "Finishing step: 0\n",
      "Finishing step: 5000\n",
      "Total Time 1.1918759346\n",
      "Pre loop Time 0.000545978546143\n",
      "Inner loop time 1.12286376953\n",
      "Outer loop time 0.0110902786255\n",
      "Finishing step: 0\n",
      "Finishing step: 5000\n",
      "Total Time 2.02668905258\n",
      "Pre loop Time 0.000473022460938\n",
      "Inner loop time 1.8985683918\n",
      "Outer loop time 0.0689823627472\n",
      "Finishing step: 0\n",
      "Finishing step: 5000\n",
      "Total Time 2.91041588783\n",
      "Pre loop Time 0.000325918197632\n",
      "Inner loop time 2.64788961411\n",
      "Outer loop time 0.20205616951\n",
      "Finishing step: 0\n",
      "Finishing step: 5000\n",
      "Total Time 5.78629517555\n",
      "Pre loop Time 0.000349044799805\n",
      "Inner loop time 5.30177235603\n",
      "Outer loop time 0.420144081116\n",
      "Finishing step: 0\n",
      "Finishing step: 5000\n",
      "Total Time 12.7965650558\n",
      "Pre loop Time 0.000322103500366\n",
      "Inner loop time 11.9876651764\n",
      "Outer loop time 0.737069368362\n",
      "Finishing step: 0\n",
      "Finishing step: 5000\n",
      "Total Time 24.509251833\n",
      "Pre loop Time 0.000319957733154\n",
      "Inner loop time 23.3445298672\n",
      "Outer loop time 1.08995485306\n",
      "Finishing step: 0\n",
      "Finishing step: 5000\n",
      "Total Time 58.9445700645\n",
      "Pre loop Time 0.000324010848999\n",
      "Inner loop time 57.1586067677\n",
      "Outer loop time 1.70273113251\n",
      "Finishing step: 0\n",
      "Finishing step: 5000\n",
      "Total Time 133.37229681\n",
      "Pre loop Time 0.000321865081787\n",
      "Inner loop time 130.828522682\n",
      "Outer loop time 2.45632171631\n"
     ]
    }
   ],
   "source": [
    "R = [5, 15, 25, 35, 45, 55, 65, 75]\n",
    "\n",
    "f = open('workfileNR26_uncorr.txt', 'w')\n",
    "\n",
    "f.write('Northridge, %d stations, max_R = %d\\n' %(np.size(stationdata['pga']), R[-1]))\n",
    "s = str(np.size(R))\n",
    "f.write(s+'\\n')\n",
    "s = str(M)\n",
    "f.write(s+'\\n')\n",
    "s = str(N)\n",
    "f.write(s+'\\n')\n",
    "\n",
    "for j in range(0, M*N):\n",
    "    s  = str(rand[j])\n",
    "    f.write(s+'\\n')\n",
    "\n",
    "data_NEW = np.zeros([M*N, np.size(R)])\n",
    "\n",
    "for k in range(0,np.size(R)):\n",
    "    out = main(variables, R[k], voi, rand, 0.9)\n",
    "    data_NEW[:,k] = np.reshape(out['data_new'], [M*N])\n",
    "    for j in range(0, M*N):\n",
    "        s = str(data_NEW[j,k])\n",
    "        f.write(s+'\\n')\n",
    "                       \n",
    "    \n",
    "f.close()\n"
   ]
  },
  {
   "cell_type": "code",
   "execution_count": 8,
   "metadata": {
    "collapsed": false
   },
   "outputs": [
    {
     "name": "stdout",
     "output_type": "stream",
     "text": [
      "[[ 1.          0.71865927  0.51647116  0.37116681  0.2667425   0.19169702]]\n"
     ]
    }
   ],
   "source": [
    "g = open('workfileNR26full_uncorr.txt', 'w')\n",
    "g.write('Northridge, %d stations \\n' %(np.size(stationdata['pga'])))\n",
    "s = str(variables['M'])\n",
    "g.write(s+'\\n')\n",
    "s = str(variables['N'])\n",
    "g.write(s+'\\n')\n",
    "\n",
    "# Using the collected data, calculate correlation matrix\n",
    "cor_model = BaseCorrelationModel\n",
    "JB_cor_model = JB2009CorrelationModel(cor_model)\n",
    "comb_cor_model = JB_cor_model._get_correlation_matrix(variables['site_collection_both'], from_string(voi))\n",
    "\n",
    "# From Characterization of Uncertainty in Shakemaps, we have\n",
    "# Sig11 = station_correlation_model\n",
    "# Sig22 = grid_correlation_model\n",
    "# Sig12 = Sig21^T\n",
    "\n",
    "Sig11 = comb_cor_model[0:K, 0:K]\n",
    "Sig12 = comb_cor_model[0:K, K:M*N+K]\n",
    "Sig22 = comb_cor_model[K:M*N+K, K:M*N+K]\n",
    "\n",
    "if np.size(Sig11) == 0:\n",
    "    R = np.linalg.cholesky(Sig22)\n",
    "    rand = np.reshape(rand, [M*N,1])\n",
    "    X = R*rand\n",
    "else:\n",
    "\n",
    "    Sig11inv = linalg.pinv(Sig11)\n",
    "\n",
    "    # Xobs residuals\n",
    "    x = np.zeros([K,1])\n",
    "\n",
    "    # Calculate mean and covariance matrices specified in Jayaram and Baker 2009\n",
    "    mean = np.array(Sig12.T * Sig11inv * x)\n",
    "    cov = Sig22 - (Sig12.T*Sig11inv*Sig12)\n",
    "\n",
    "    # Find distribution \n",
    "    R = np.linalg.cholesky(cov)\n",
    "    rand = np.reshape(rand, [M*N,1])\n",
    "    X = mean + R*rand\n",
    "\n",
    "COR = np.reshape(X, [M,N])\n",
    "\n",
    "#Multiply by uncertainty\n",
    "X = np.multiply(COR, variables['uncertaintydata'])\n",
    "\n",
    "DATA_NEW = np.multiply(variables['data'],np.exp(X))\n",
    "for i in range(0,M):\n",
    "    for j in range(0,N):\n",
    "\n",
    "        s = str(DATA_NEW[i,j])\n",
    "        g.write(s+' ')\n",
    "g.close()"
   ]
  },
  {
   "cell_type": "code",
   "execution_count": 9,
   "metadata": {
    "collapsed": false
   },
   "outputs": [],
   "source": [
    "!cp 'workfileNR26_uncorr.txt' '/Users/sverros/Documents/Testing/fileNR0_correlated.txt'\n",
    "!cp 'workfileNR26full_uncorr.txt' '/Users/sverros/Documents/Testing/fileNR0full_correlated.txt'"
   ]
  },
  {
   "cell_type": "code",
   "execution_count": null,
   "metadata": {
    "collapsed": true
   },
   "outputs": [],
   "source": []
  }
 ],
 "metadata": {
  "kernelspec": {
   "display_name": "Python 2",
   "language": "python",
   "name": "python2"
  },
  "language_info": {
   "codemirror_mode": {
    "name": "ipython",
    "version": 2
   },
   "file_extension": ".py",
   "mimetype": "text/x-python",
   "name": "python",
   "nbconvert_exporter": "python",
   "pygments_lexer": "ipython2",
   "version": "2.7.9"
  }
 },
 "nbformat": 4,
 "nbformat_minor": 0
}
