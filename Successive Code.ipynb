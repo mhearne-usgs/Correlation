{
 "cells": [
  {
   "cell_type": "code",
   "execution_count": null,
   "metadata": {
    "collapsed": false,
    "scrolled": false
   },
   "outputs": [
    {
     "name": "stdout",
     "output_type": "stream",
     "text": [
      "185\n",
      "\tInitialization Time: 0.48980307579\n",
      "Finishing step: 0\n",
      "Finishing step: 5000\n",
      "Finishing step: 10000\n",
      "Finishing step:"
     ]
    }
   ],
   "source": [
    "%matplotlib inline\n",
    "import matplotlib.pyplot as plt\n",
    "import numpy as np\n",
    "import scipy\n",
    "from neicio.readstation import readStation\n",
    "from neicio.shake import ShakeGrid\n",
    "from neicio.gmt import GMTGrid\n",
    "import time\n",
    "from matplotlib import cm\n",
    "from Correlation.setup import initialize\n",
    "from Correlation.loop import main\n",
    "from Correlation.realizations import realizations\n",
    "from Correlation.plotting import plot\n",
    "\n",
    "# Variable of interest                                                                                                                                                                                                        \n",
    "voi = 'PGA'\n",
    "\n",
    "# Specify the radius of interest                                                                                                                                                                                              \n",
    "r = 15\n",
    "\n",
    "# Specify number of realizations\n",
    "num_realizations = 1\n",
    "\n",
    "# Intensity Factor\n",
    "intensity_factor = 0.9\n",
    "\n",
    "# Get shakemap for desired variable, PGA, uncertainty grid and stationdata                                                                                                                                                    \n",
    "# Selected Stations: Units in pctg                                                                                                                                                                                            \n",
    "shakemap = ShakeGrid('Inputs/grid.xml', variable = '%s' % voi)\n",
    "\n",
    "# Uncertainty Data: Units in ln(pctg)                                                                                                                                                                                         \n",
    "uncertainty = ShakeGrid('Inputs/uncertainty.xml', variable= 'STD%s' % voi)\n",
    "\n",
    "# Station Data: Units in pctg                                                                                                                                                                                                 \n",
    "stationlist = 'Inputs/stationlist.xml'\n",
    "stationdata = readStation(stationlist)\n",
    "\n",
    "print np.size(stationdata['pga'])\n",
    "# Sets up grid spacing, site collections, and other data values\n",
    "# optional parameters: dm, dn, the grid discritization defaulting to 1\n",
    "variables = initialize(shakemap, uncertainty, stationdata)\n",
    "\n",
    "# Calculate the random array, stored for testing\n",
    "rand = np.random.randn(variables['N']*variables['M'])\n",
    "\n",
    "# Main program for computing spatial correlation\n",
    "# Output is a dictionary with the following keys\n",
    "#     cor- grid of spatially correlated epsilon                                                                                                                                \n",
    "#     data- grid of ShakeMap data                                                                                                                                              \n",
    "#     data_new- data with added spatial correlation                                                                                                                            \n",
    "#     grid_arr- array for storing grid indices for multiple realizations                                                                                                       \n",
    "#     mu_arr- array for storing Sig21.T*Sig11inv for multiple realizations                                                                                                     \n",
    "#     sigma_arr- array for storing sigma for multiple realizations  \n",
    "out = main(variables, r, voi, rand, intensity_factor)\n",
    "\n",
    "# Calculate multiple realizations\n",
    "ACCUM_ARRAY = realizations(num_realizations, variables['N'], variables['M'], out['grid_arr'], \n",
    "                           out['mu_arr'], out['sigma_arr'], variables['uncertaintydata'], out['data'])\n",
    "\n",
    "plot(out, variables, voi, shakemap, stationdata, ACCUM_ARRAY)"
   ]
  },
  {
   "cell_type": "code",
   "execution_count": null,
   "metadata": {
    "collapsed": true
   },
   "outputs": [],
   "source": []
  }
 ],
 "metadata": {
  "kernelspec": {
   "display_name": "Python 2",
   "language": "python",
   "name": "python2"
  },
  "language_info": {
   "codemirror_mode": {
    "name": "ipython",
    "version": 2
   },
   "file_extension": ".py",
   "mimetype": "text/x-python",
   "name": "python",
   "nbconvert_exporter": "python",
   "pygments_lexer": "ipython2",
   "version": "2.7.9"
  }
 },
 "nbformat": 4,
 "nbformat_minor": 0
}
